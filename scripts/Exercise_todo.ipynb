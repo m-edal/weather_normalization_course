{
 "cells": [
  {
   "cell_type": "markdown",
   "id": "7166696c-3f82-49eb-a0b0-e4fec5d13ec4",
   "metadata": {},
   "source": [
    "<font size=\"6\">Exercise </font>\n",
    "\n",
    "<font size=\"4\">Exercise 1: Use Normet to normalize the NO<sub>2</sub> data from the MY1 station using one-step normalization process. You can utilize the new model configuration to save time, but you are also encouraged to design your own configuration to test for differences.</font>"
   ]
  },
  {
   "cell_type": "code",
   "execution_count": null,
   "id": "b819ec5a-39fe-4928-b889-fbcb43d0525f",
   "metadata": {},
   "outputs": [],
   "source": [
    "# if the google colab give a warining - you can re-run this as it may notice you there are to many missions\n",
    "# load into google drive\n",
    "from google.colab import drive\n",
    "drive.mount('/content/drive')\n",
    "import os\n",
    "print(os.getcwd())\n",
    "os.chdir('/content/drive/My Drive/Colab Notebooks/DEES_first_year/weather_normalization_course/scripts/')\n"
   ]
  },
  {
   "cell_type": "code",
   "execution_count": null,
   "id": "77f74ba2-c453-45a6-ae16-2664b6441f53",
   "metadata": {},
   "outputs": [],
   "source": [
    "pip install flaml"
   ]
  },
  {
   "cell_type": "markdown",
   "id": "5a4b46ed-fb22-4907-bf7a-f1394b574659",
   "metadata": {},
   "source": [
    "<font size=\"4\">1: Load the MY1 data </font>"
   ]
  },
  {
   "cell_type": "code",
   "execution_count": null,
   "id": "894b43d5-daa9-4186-9136-8205c4bcd495",
   "metadata": {},
   "outputs": [],
   "source": [
    "# if your default date format is %d/%m/%Y %H:%M, please use dayfrist=True\n",
    "# df=pd.read_csv('../dataset/MY1.csv',parse_dates=['date'],index_col='date',dayfirst=True)\n",
    "# INSET the CODE\n",
    "\n",
    "\n",
    "\n",
    "\n",
    "\n"
   ]
  },
  {
   "cell_type": "markdown",
   "id": "128b57b3-f9b3-4056-8962-2fb092461acf",
   "metadata": {},
   "source": [
    "<font size=\"4\">2: One step weather normalization </font>\n",
    "<font size=\"4\">\n",
    "\n",
    "Tips:\n",
    "1. Use the `new_model_config` or design your own `model_config`.\n",
    "2. Apply Normet's `do_all` function to perform one-step weather normalization (pay attention to the shuffle number; higher shuffle times may significantly increase processing time; don't forget the model performance).\n",
    "3. It is recommended to visualize the normalized data.\n",
    "</font>\n"
   ]
  },
  {
   "cell_type": "code",
   "execution_count": 6,
   "id": "8ebdcb9f-1318-480f-b216-6dbf68fe60ee",
   "metadata": {},
   "outputs": [],
   "source": [
    "new_model_config = {\n",
    "    'time_budget': 100,                     # Total running time in seconds\n",
    "    'metric': 'r2',                        # Primary metric for regression, 'mae', 'mse', 'r2', 'mape',...\n",
    "    'estimator_list': [\"lgbm\", \"rf\", \"xgboost\", \"extra_tree\", \"xgb_limitdepth\"],            # List of ML learners: \"lgbm\", \"rf\", \"xgboost\", \"extra_tree\", \"xgb_limitdepth\"\n",
    "    'task': 'regression',                  # Task type\n",
    "    'eval_method': 'auto',                 # A string of resampling strategy, one of ['auto', 'cv', 'holdout'].\n",
    "    'verbose': True                     # Print progress messages\n",
    "}"
   ]
  },
  {
   "cell_type": "code",
   "execution_count": null,
   "id": "4a71445d-2833-4f5e-9917-694e948c1a79",
   "metadata": {},
   "outputs": [],
   "source": [
    "# INSET the CODE OF DO_ALL FUNCTION\n",
    "df=df[df.index.year>=2018]   # reduce the data length to save running time\n",
    "\n",
    "\n",
    "\n",
    "\n",
    "\n",
    "\n",
    "\n"
   ]
  },
  {
   "cell_type": "markdown",
   "id": "681c92c0-dcaf-455d-8ec6-b2e5597f3549",
   "metadata": {},
   "source": [
    "<font size=\"4\">Exercise 2: Use Normet to normalize the NO<sub>2</sub> data from the MY1 station in 2019 using a one-step normalization process. You can utilize the new model configuration to save time, but you are also encouraged to design your own configuration to test for differences.</font>"
   ]
  },
  {
   "cell_type": "code",
   "execution_count": 1,
   "id": "e5691bb1-371f-46fb-a948-6661fb8d4abe",
   "metadata": {},
   "outputs": [],
   "source": [
    "# INSERT the CODE\n",
    "# Tips: you need to extract the data in 2019, here's a command example to extract data for the year 2019\n",
    "\n",
    "# df2019=df[(df.index.year == 2019)]\n",
    "\n",
    "\n",
    "\n",
    "\n",
    "\n",
    "\n"
   ]
  },
  {
   "cell_type": "markdown",
   "id": "7ca7102a-bd1f-4a6c-bee4-2e0e8ba6acc1",
   "metadata": {},
   "source": [
    "<font size=\"4\">Exercise 3: Use Normet to normalize the daily NO<sub>2</sub> data from the MY1 station using a one-step normalization process.</font>\n"
   ]
  },
  {
   "cell_type": "code",
   "execution_count": 4,
   "id": "d759d2ef-d982-48f2-915f-5ba499c3a049",
   "metadata": {},
   "outputs": [],
   "source": [
    "# INSERT the CODE\n",
    "# Tips: you need to remove the location type column as its the non-numeric columns, here's a command example.\n",
    "# df.pop('location_type')  # Remove the 'location_type' column from df\n",
    "# df_daily = df.resample('D').mean()\n",
    "\n"
   ]
  },
  {
   "cell_type": "code",
   "execution_count": 5,
   "id": "3a890360-1c0e-4c92-8893-55524af98e72",
   "metadata": {},
   "outputs": [],
   "source": [
    "# Feature importances for daily data?\n"
   ]
  },
  {
   "cell_type": "markdown",
   "id": "50bab7c5-0995-4e84-ad33-d8eaf8bfbebf",
   "metadata": {},
   "source": [
    "<font size=\"4\">Exercise 4: Experiment with other pollutants or scenarios in any way you like.</font>\n"
   ]
  },
  {
   "cell_type": "code",
   "execution_count": null,
   "id": "368059ae-8cbf-4353-a63e-3adaaa4abe39",
   "metadata": {},
   "outputs": [],
   "source": []
  },
  {
   "cell_type": "code",
   "execution_count": null,
   "id": "c3724dd7-01ca-4e3d-96ca-c8f4f61cea22",
   "metadata": {},
   "outputs": [],
   "source": []
  }
 ],
 "metadata": {
  "kernelspec": {
   "display_name": "Python 3 (ipykernel)",
   "language": "python",
   "name": "python3"
  },
  "language_info": {
   "codemirror_mode": {
    "name": "ipython",
    "version": 3
   },
   "file_extension": ".py",
   "mimetype": "text/x-python",
   "name": "python",
   "nbconvert_exporter": "python",
   "pygments_lexer": "ipython3",
   "version": "3.8.19"
  }
 },
 "nbformat": 4,
 "nbformat_minor": 5
}
